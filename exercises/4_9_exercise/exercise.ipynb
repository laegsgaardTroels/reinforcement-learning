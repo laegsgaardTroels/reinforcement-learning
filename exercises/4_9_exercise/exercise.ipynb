{
 "cells": [
  {
   "cell_type": "markdown",
   "metadata": {},
   "source": [
    "# Background\n",
    "\n",
    "**Example 4.3**: Gambler’s Problem A gambler has the opportunity to make bets on the outcomes\n",
    "of a sequence of coin flips. If the coin comes up heads, he wins as many dollars as he has staked on\n",
    "that flip; if it is tails, he loses his stake. The game ends when the gambler wins by reaching his goal\n",
    "of \\\\$100, or loses by running out of money. On each flip, the gambler must decide what portion of his\n",
    "capital to stake, in integer numbers of dollars. This problem can be formulated as an undiscounted,\n",
    "episodic, finite MDP. The state is the gambler’s capital, $s\\in\\{1,\\dots,99\\}$ and the actions are stakes,\n",
    "$a\\in\\{1,\\dots,\\min(1, 100-s)$. The reward is zero on all transitions except those on which the gambler\n",
    "reaches his goal, when it is +1. The state-value function then gives the probability of winning from\n",
    "each state. A policy is a mapping from levels of capital to stakes. The optimal policy maximizes\n",
    "the probability of reaching the goal. Let $p_h$ denote the probability of the coin coming up heads. If\n",
    "$p_h$ is known, then the entire problem is known and it can be solved, for instance, by value iteration.\n",
    "Figure 4.3 shows the change in the value function over successive sweeps of value iteration, and the final\n",
    "policy found, for the case of $p_h = 0.4$. This policy is optimal, but not unique. In fact, there is a whole\n",
    "family of optimal policies, all corresponding to ties for the argmax action selection with respect to the\n",
    "optimal value function. Can you guess what the entire family looks like?\n",
    "\n",
    "![](gamplers_problem.png)\n",
    "\n",
    "**Figure 4.3**: The solution to the gambler’s problem for $p_h = 0.4$. The upper graph shows the value function\n",
    "found by successive sweeps of value iteration. The lower graph shows the final policy."
   ]
  },
  {
   "cell_type": "markdown",
   "metadata": {},
   "source": [
    "# Code"
   ]
  },
  {
   "cell_type": "code",
   "execution_count": 49,
   "metadata": {},
   "outputs": [
    {
     "name": "stdout",
     "output_type": "stream",
     "text": [
      "The autoreload extension is already loaded. To reload it, use:\n",
      "  %reload_ext autoreload\n"
     ]
    }
   ],
   "source": [
    "%load_ext autoreload\n",
    "%autoreload 2\n",
    "%matplotlib inline\n",
    "\n",
    "import matplotlib.pyplot as plt\n",
    "import pandas as pd\n",
    "import numpy as np\n",
    "\n",
    "PROBABILITY_HEADS = 0.4\n",
    "GOAL = 100\n",
    "STATES = np.arange(GOAL + 1)\n",
    "THETA = 1e-06\n",
    "GAMMA = 1\n",
    "WITHOUT_ZERO_ACTION = False"
   ]
  },
  {
   "cell_type": "code",
   "execution_count": 33,
   "metadata": {},
   "outputs": [
    {
     "name": "stdout",
     "output_type": "stream",
     "text": [
      "The autoreload extension is already loaded. To reload it, use:\n",
      "  %reload_ext autoreload\n"
     ]
    }
   ],
   "source": [
    "def actions(state):\n",
    "    \"\"\"The actions available at a given state.\n",
    "    \"\"\"\n",
    "    return np.arange(min(state, GOAL - state) + 1)\n",
    "\n",
    "\n",
    "def reward(s):\n",
    "    \"\"\"Reward at a given state.\n",
    "    \"\"\"\n",
    "    if s == 100:\n",
    "        return 1\n",
    "    return 0\n",
    "\n",
    "\n",
    "def sigma(state_value, state):\n",
    "    \"\"\"A list of each sum in the max and argmax of the algorithm, page 67.\n",
    "    \"\"\"\n",
    "    action_value = []\n",
    "    for action in actions(state):\n",
    "        action_value.append(\n",
    "            PROBABILITY_HEADS * (reward(state) + GAMMA * state_value[state + action]) + \n",
    "            (1 - PROBABILITY_HEADS) * (reward(state) + GAMMA * state_value[state - action])\n",
    "        )\n",
    "    return np.array(action_value)\n",
    "\n",
    "\n",
    "def optimal_policy(state_value, state, without_zero_action=WITHOUT_ZERO_ACTION):\n",
    "    \"\"\"Use the state and state_value to infer the optimal policy.\n",
    "    \n",
    "    The without_zero_action drops the 0 action, e.g. action of not betting,\n",
    "    and rounds to 5th decimal. This was seemingly done in the example in\n",
    "    the book.\n",
    "    \"\"\"\n",
    "    if without_zero_action:\n",
    "        return np.argmax(np.round(sigma(state_value, state), 5)[1:]) + 1\n",
    "    return np.argmax(sigma(state_value, state))\n",
    "\n",
    "\n",
    "def value_iteration_example(keep_terminal_states=False):\n",
    "    \"\"\"Do the value iteration for the example.\n",
    "    \"\"\"\n",
    "\n",
    "    # Initialize states.\n",
    "    state_value = np.zeros(GOAL + 1)\n",
    "    state_value[GOAL] = 1.0\n",
    "    \n",
    "    # Calculate the value function.\n",
    "    while True:\n",
    "        old_state_value = state_value.copy()\n",
    "        for state in STATES[1:-1]:\n",
    "            state_value[state] = np.max(sigma(state_value, state))\n",
    "\n",
    "        delta = abs(old_state_value - state_value).max()\n",
    "        if delta < THETA:\n",
    "            break\n",
    "\n",
    "    # Calculate the policy function.\n",
    "    policy = np.zeros(GOAL + 1)\n",
    "    for state in STATES[1:-1]:\n",
    "        policy[state] = optimal_policy(state_value, state, without_zero_action=True)\n",
    "        \n",
    "    if keep_terminal_states:\n",
    "        return state_value, policy\n",
    "    \n",
    "    # Take the subset of states {1, ... , 99}\n",
    "    state_value = state_value[1:-1]\n",
    "    policy = policy[1:-1]\n",
    "    return state_value, policy"
   ]
  },
  {
   "cell_type": "code",
   "execution_count": 37,
   "metadata": {},
   "outputs": [],
   "source": [
    "def visualize_results(state_value, policy):\n",
    "    \"\"\"Visualize the result of running the algorithm.\n",
    "    \"\"\"\n",
    "    plt.figure(figsize=(7.5,5))\n",
    "    plt.subplot(121)\n",
    "    plt.title('State value function.')\n",
    "    plt.plot(state_value)\n",
    "    plt.subplot(122)\n",
    "    plt.title('Policy function.')\n",
    "    plt.plot(policy, '*')"
   ]
  },
  {
   "cell_type": "code",
   "execution_count": 34,
   "metadata": {},
   "outputs": [],
   "source": [
    "# Test `actions()`.\n",
    "assert actions(0) == [0], 'State 100 should be a recurrent state.'\n",
    "assert actions(100) == [0], 'State 100 should be a recurrent state.'\n",
    "for s in STATES:\n",
    "    assert 0 in actions(s), '0 is always and action.'\n",
    "    for a in actions(s):\n",
    "        assert 0 <= a <= GOAL, 'The new state should be one of 0, ..., len(STATES).'\n",
    "            \n",
    "\n",
    "# Test `value_iteration_example()`.\n",
    "state_value, policy = value_iteration_example(keep_terminal_states=True)\n",
    "assert state_value[0] == 0, 'The state value function at state 0 should be 0.'\n",
    "assert state_value[100] == 1, 'The state value function at state 100 should be 1.'\n",
    "assert all([0<=v<=1 for v in state_value]), 'The expected value cannot be bigger than 1.'"
   ]
  },
  {
   "cell_type": "markdown",
   "metadata": {},
   "source": [
    "# Exercise 4.9 (programming)\n",
    "Implement value iteration for the gambler’s problem and solve it for\n",
    "$p_h = 0.25$ and $p_h = 0.55$. In programming, you may find it convenient to introduce two dummy states\n",
    "corresponding to termination with capital of 0 and 100, giving them values of 0 and 1 respectively.\n",
    "Show your results graphically, as in Figure 4.3. Are your results stable as $\\theta \\rightarrow 0$?"
   ]
  },
  {
   "cell_type": "code",
   "execution_count": 38,
   "metadata": {},
   "outputs": [
    {
     "data": {
      "image/png": "[encoded data removed]",
      "text/plain": [
       "<Figure size 540x360 with 2 Axes>"
      ]
     },
     "metadata": {
      "needs_background": "light"
     },
     "output_type": "display_data"
    }
   ],
   "source": [
    "PROBABILITY_HEADS = 0.25\n",
    "\n",
    "state_value, policy = value_iteration_example()\n",
    "visualize_results(state_value, policy)"
   ]
  },
  {
   "cell_type": "code",
   "execution_count": 43,
   "metadata": {},
   "outputs": [
    {
     "data": {
      "image/png": "[encoded data removed]",
      "text/plain": [
       "<Figure size 540x360 with 2 Axes>"
      ]
     },
     "metadata": {
      "needs_background": "light"
     },
     "output_type": "display_data"
    }
   ],
   "source": [
    "PROBABILITY_HEADS = 0.55\n",
    "\n",
    "state_value, policy = value_iteration_example()\n",
    "visualize_results(state_value, policy)"
   ]
  },
  {
   "cell_type": "markdown",
   "metadata": {},
   "source": [
    "It seems stable as $\\theta \\rightarrow 0$."
   ]
  },
  {
   "cell_type": "code",
   "execution_count": 47,
   "metadata": {},
   "outputs": [
    {
     "data": {
      "image/png": "[encoded data removed]",
      "text/plain": [
       "<Figure size 540x360 with 2 Axes>"
      ]
     },
     "metadata": {
      "needs_background": "light"
     },
     "output_type": "display_data"
    }
   ],
   "source": [
    "PROBABILITY_HEADS = 0.25\n",
    "THETA = 1e-90\n",
    "\n",
    "state_value, policy = value_iteration_example()\n",
    "visualize_results(state_value, policy)"
   ]
  }
 ],
 "metadata": {
  "kernelspec": {
   "display_name": "Python 3",
   "language": "python",
   "name": "python3"
  },
  "language_info": {
   "codemirror_mode": {
    "name": "ipython",
    "version": 3
   },
   "file_extension": ".py",
   "mimetype": "text/x-python",
   "name": "python",
   "nbconvert_exporter": "python",
   "pygments_lexer": "ipython3",
   "version": "3.7.3"
  }
 },
 "nbformat": 4,
 "nbformat_minor": 2
}
