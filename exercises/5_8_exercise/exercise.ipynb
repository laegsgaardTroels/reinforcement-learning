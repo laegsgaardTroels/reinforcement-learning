{
 "cells": [
  {
   "cell_type": "markdown",
   "metadata": {},
   "source": [
    "![](exercise_5_8_1.png)\n",
    "![](exercise_5_8_2.png)\n",
    "![](off_policy_mc_control.png)"
   ]
  },
  {
   "cell_type": "code",
   "execution_count": 168,
   "metadata": {},
   "outputs": [
    {
     "name": "stdout",
     "output_type": "stream",
     "text": [
      "The autoreload extension is already loaded. To reload it, use:\n",
      "  %reload_ext autoreload\n"
     ]
    }
   ],
   "source": [
    "%matplotlib inline\n",
    "%load_ext autoreload\n",
    "%autoreload 2\n",
    "from IPython.display import clear_output\n",
    "from math import sqrt\n",
    "import matplotlib.pyplot as plt\n",
    "import ipdb\n",
    "import pandas as pd\n",
    "import numpy as np\n",
    "from itertools import product\n",
    "import random\n",
    "import ipdb\n",
    "from matplotlib.animation import FuncAnimation\n",
    "\n",
    "DEBUG = False\n",
    "\n",
    "MAP = pd.read_csv('maps/map1.csv', header=None).values\n",
    "CELL_TYPE_MAP = {\n",
    "    0: 'WALL',\n",
    "    1: 'TRACK',\n",
    "    2: 'GOAL',\n",
    "    3: 'START',\n",
    "}\n",
    "\n",
    "# NB: MAP is row, columns, but we want (x, y) which is the reverse.\n",
    "MAX_Y = MAP.shape[0] - 1\n",
    "MAX_X = MAP.shape[1] - 1\n",
    "MAX_VELOCITY = 5\n",
    "\n",
    "GAMMA = 0.8\n",
    "EPSILON = 0.1\n",
    "MAX_ITERATIONS = 5000\n",
    "\n",
    "\n",
    "def states():\n",
    "    \"\"\"Generates all possible states.\n",
    "    \"\"\"\n",
    "    for x, y, dx, dy in product(\n",
    "        range(MAX_X + 1), range(MAX_Y + 1), range(0, MAX_VELOCITY + 1), range(0, MAX_VELOCITY + 1)\n",
    "    ):\n",
    "        yield (x, y, dx, dy)\n",
    "        \n",
    "\n",
    "def cell_type(state):\n",
    "    \"\"\"Cell types is given by values of CELL_TYPE_MAP.\n",
    "    \"\"\"\n",
    "    \n",
    "    x, y, dx, dy = state\n",
    "    return CELL_TYPE_MAP[MAP[MAX_Y - y, x]]\n",
    "\n",
    "        \n",
    "START_STATES = list(set(map(\n",
    "    lambda state: (state[0], state[1], 0, 0),\n",
    "    filter(\n",
    "        lambda state: cell_type(state) == 'START', \n",
    "        states()\n",
    "    )\n",
    ")))\n",
    "\n",
    "        \n",
    "def is_valid_state(state):\n",
    "    x, y, dx, dy = state\n",
    "    valid_x = (0 <= x <= MAX_X)\n",
    "    valid_y = (0 <= y <= MAX_Y)\n",
    "    valid_dx = (0 <= dx <= MAX_VELOCITY)\n",
    "    valid_dy = (0 <= dy <= MAX_VELOCITY)\n",
    "    return valid_x and valid_y and valid_dx and valid_dy\n",
    "\n",
    "\n",
    "def actions(state):\n",
    "    \"\"\"Generate all velocity vectors at a given state.\n",
    "    \"\"\"\n",
    "    assert(is_valid_state)\n",
    "    for ddx in [-1, 0, 1]:\n",
    "        for ddy in [-1, 0, 1]:\n",
    "            \n",
    "            action = (ddx, ddy)\n",
    "            new_state = move_car(state, action)\n",
    "            \n",
    "            if not is_valid_state(new_state):\n",
    "                continue\n",
    "                \n",
    "            if cell_type(new_state) == 'WALL':\n",
    "                continue\n",
    "             \n",
    "            yield (ddx, ddy)\n",
    "            \n",
    "\n",
    "def move_car(state, action):\n",
    "    \"\"\"Move a car using the velocity vector.\n",
    "    \"\"\"\n",
    "    assert(is_valid_state)\n",
    "    x, y, dx, dy = state\n",
    "    ddx, ddy = action\n",
    "    \n",
    "    new_dx = dx + ddx\n",
    "    new_dy = dy + ddy\n",
    "    \n",
    "    new_x = x + new_dx\n",
    "    new_y = y + new_dy\n",
    "    \n",
    "    new_state = (new_x, new_y, new_dx, new_dy)\n",
    "\n",
    "    return new_state\n",
    "            \n"
   ]
  },
  {
   "cell_type": "code",
   "execution_count": 162,
   "metadata": {},
   "outputs": [],
   "source": [
    "def track_progress(iteration, episode_length, epsilon):\n",
    "    clear_output(wait = True)\n",
    "    print(\n",
    "        f'Episode number: {iteration}\\n'\n",
    "        f'Episode length: {episode_length}\\n'\n",
    "        f'Epsilon: {epsilon}'\n",
    "    )\n",
    "\n",
    "def off_policy_mc_control():\n",
    "    \n",
    "    action_value = {}\n",
    "    normalizing_constant = {}\n",
    "    target_policy = {}  # The target policy is the greedy policy.\n",
    "    epsilon = EPSILON\n",
    "    \n",
    "    # Used to track progress.\n",
    "    iteration = 1\n",
    "\n",
    "    while True:\n",
    "            \n",
    "        def behaviour_policy(state):\n",
    "            if random.random() <= epsilon:\n",
    "                return random.choice(list(actions(state)))\n",
    "            return target_policy.get(state, random.choice(list(actions(state))))\n",
    "        \n",
    "        \n",
    "        start_state = random.choice(START_STATES)\n",
    "        episode = run_episode(behaviour_policy, start_state)\n",
    "        episode = list(reversed(episode))\n",
    "        \n",
    "        G = 0.0\n",
    "        W = 1.0\n",
    "        \n",
    "        # Used to track progress.\n",
    "        episode_length = 1\n",
    "        \n",
    "        # Iterate in tuples (t + 1, t)\n",
    "        for (new_state, new_action, new_reward), (state, action, reward) in zip(episode, episode[1:]):\n",
    "            \n",
    "            G = GAMMA * G + new_reward\n",
    "            \n",
    "            normalizing_constant[(state, action)] = normalizing_constant.get((state, action), 0) + W\n",
    "            \n",
    "            action_value[(state, action)] = (\n",
    "                action_value.get((state, action), -10) +\n",
    "                W / normalizing_constant.get((state, action), 0) * (G - action_value.get((state, action), -10))\n",
    "            )\n",
    "            \n",
    "            target_policy[state] = best_action(state, action_value)\n",
    "            \n",
    "            if action != target_policy[state]:\n",
    "                \n",
    "                break\n",
    "            \n",
    "            if action == target_policy[state]:\n",
    "                W = W / (1 - epsilon + epsilon / len(list(actions(state))))\n",
    "            else:\n",
    "                W = W / (epsilon / len(list(actions(state))))\n",
    "            \n",
    "            episode_length += 1\n",
    "            \n",
    "            \n",
    "        track_progress(iteration, episode_length, epsilon)\n",
    "        iteration += 1\n",
    "        \n",
    "        if iteration > MAX_ITERATIONS:\n",
    "            break\n",
    "    \n",
    "    return target_policy, action_value, normalizing_constant\n",
    "\n",
    "def run_episode(behaviour_policy, start_state):\n",
    "    \"\"\"Used to generate an episode.\n",
    "    \n",
    "    Remember:\n",
    "        state -> action -> reward -> ...\n",
    "    \"\"\"\n",
    "    \n",
    "    # Initialize episode at start state, the 0 action, and 0 reward.\n",
    "    state = start_state\n",
    "    episode = []\n",
    "    \n",
    "    while True:\n",
    "        \n",
    "        action = behaviour_policy(state)\n",
    "        \n",
    "        episode.append(\n",
    "            (state, action, -1)\n",
    "        )\n",
    "        \n",
    "        state = move_car(state, action)\n",
    "        \n",
    "        \n",
    "        # If no actions are available from state, then reset.\n",
    "        if len(list(actions(state))) == 0:\n",
    "            state = random.choice(START_STATES)\n",
    "            episode = []\n",
    "            \n",
    "        if cell_type(state) == 'GOAL':\n",
    "            episode.append(\n",
    "                (state, (-10, -10), -1)\n",
    "            )\n",
    "            break\n",
    "            \n",
    "    return episode\n",
    "\n",
    "\n",
    "def best_action(state, action_value):\n",
    "    \"\"\"Returns the best action in a state using the action values.\n",
    "    \"\"\"\n",
    "    state_action_value = [(action_value.get((state, action), -10), action) for action in actions(state)]\n",
    "    best_action = max(state_action_value)[1]\n",
    "    \n",
    "    assert isinstance(best_action, tuple), f'best_action: {best_action}'\n",
    "    return best_action"
   ]
  },
  {
   "cell_type": "markdown",
   "metadata": {},
   "source": [
    "# Tests"
   ]
  },
  {
   "cell_type": "code",
   "execution_count": 138,
   "metadata": {},
   "outputs": [],
   "source": [
    "# Run episodes from all starting points.\n",
    "for start_state in START_STATES:\n",
    "    def exploring_policy(state):\n",
    "        return random.choice(list(actions(state)))\n",
    "    episode = run_episode(exploring_policy, start_state)\n",
    "\n",
    "# For whatever state does shit then make sense.\n",
    "for state in states():\n",
    "    \n",
    "    assert len(list(actions(state))) <= 9, f\"state: {state}, action: {action}, new_state: {new_state}.\"\n",
    "    assert cell_type(state) in CELL_TYPE_MAP.values(), f\"state: {state}, action: {action}, new_state: {new_state}.\"\n",
    "    \n",
    "    for action in actions(state):\n",
    "        \n",
    "        new_state = move_car(state, action)\n",
    "        new_x, new_y, new_dx, new_dy = new_state\n",
    "        \n",
    "        assert 0 <= new_x <= MAX_X, f\"state: {state}, action: {action}, new_state: {new_state}.\"\n",
    "        assert 0 <= new_y <= MAX_Y, f\"state: {state}, action: {action}, new_state: {new_state}.\"\n",
    "        \n",
    "        assert 0 <= new_dx <= MAX_VELOCITY, f\"state: {state}, action: {action}, new_state: {new_state}.\"\n",
    "        assert 0 <= new_dy <= MAX_VELOCITY, f\"state: {state}, action: {action}, new_state: {new_state}.\"\n",
    "        \n",
    "        assert cell_type(new_state) in CELL_TYPE_MAP.values(), (\n",
    "            f\"state: {state}, action: {action}, new_state: {new_state}.\"\n",
    "        )"
   ]
  },
  {
   "cell_type": "markdown",
   "metadata": {},
   "source": [
    "# Plotting"
   ]
  },
  {
   "cell_type": "code",
   "execution_count": 70,
   "metadata": {},
   "outputs": [],
   "source": [
    "def plot_episode(episode):\n",
    "    reconstructed_episode = reconstruct_last_episode(episode)\n",
    "    buffer = 1\n",
    "    ax = plt.axes(xlim=(-buffer, MAX_X + buffer), ylim=(-buffer, MAX_Y + buffer))\n",
    "    for i in range(len(reconstructed_episode)-1):\n",
    "        animate(i, reconstructed_episode)\n",
    "    plot_walls()\n",
    "    \n",
    "    \n",
    "def reconstruct_last_episode(episode):\n",
    "    \"\"\"Reconstuct a path.\n",
    "    \"\"\"\n",
    "    res = []\n",
    "    at_starting_state = False\n",
    "    for state_action_reward in reversed(episode):\n",
    "        state, _, _ = state_action_reward\n",
    "        x, y, dx, dy = state\n",
    "        res.append(\n",
    "            [x, y]\n",
    "        )   \n",
    "    \n",
    "    return list(reversed(res))\n",
    "\n",
    "def plot_walls():\n",
    "    \"\"\"Plot the walls in the map.\n",
    "    \"\"\"\n",
    "    for x, y in set(map(\n",
    "            lambda state: (state[0], state[1]),\n",
    "            filter(\n",
    "                lambda state: cell_type(state) == 'WALL',\n",
    "                list(states())\n",
    "            )\n",
    "        )):\n",
    "        plt.plot([x], [y], marker='o', markersize=3, color=\"black\")\n",
    "\n",
    "\n",
    "def animate(i, reconstructed_episode):\n",
    "    \"\"\"Used to animate the plot.\n",
    "    \"\"\"\n",
    "    [[x1, y1], [x2, y2]] = reconstructed_episode[i:int(i+2)]\n",
    "    \n",
    "    plt.plot([x1,x2],[y1,y2], 'r')\n",
    "    \n",
    "    if cell_type((x1, y1, 0, 0)) == 'START':\n",
    "        plt.plot(x1, y1, 'g*')\n",
    "    \n",
    "    if cell_type((x2, y2, 0, 0)) == 'GOAL':\n",
    "        plt.plot(x2, y2, 'r*')"
   ]
  },
  {
   "cell_type": "markdown",
   "metadata": {},
   "source": [
    "# Run the algorithm and analyze output"
   ]
  },
  {
   "cell_type": "code",
   "execution_count": 169,
   "metadata": {},
   "outputs": [
    {
     "name": "stdout",
     "output_type": "stream",
     "text": [
      "Episode number: 5000\n",
      "Episode length: 15\n",
      "Epsilon: 0.1\n"
     ]
    }
   ],
   "source": [
    "target_policy, action_value, normalizing_constant = off_policy_mc_control()"
   ]
  },
  {
   "cell_type": "code",
   "execution_count": 164,
   "metadata": {},
   "outputs": [],
   "source": [
    "assert all(map(lambda state: state in target_policy.keys(), START_STATES)), (\n",
    "    'All the start states should be in the keys of the policy.'\n",
    ")"
   ]
  },
  {
   "cell_type": "markdown",
   "metadata": {},
   "source": [
    "# Race mate"
   ]
  },
  {
   "cell_type": "code",
   "execution_count": 165,
   "metadata": {
    "scrolled": false
   },
   "outputs": [
    {
     "name": "stdout",
     "output_type": "stream",
     "text": [
      "START : state: (7, 0, 0, 0)    action: (1, 1)         accumulated_reward: -1   \n",
      "TRACK : state: (8, 1, 1, 1)    action: (-1, 1)        accumulated_reward: -2   \n",
      "TRACK : state: (8, 3, 0, 2)    action: (0, 1)         accumulated_reward: -3   \n",
      "TRACK : state: (8, 6, 0, 3)    action: (0, 0)         accumulated_reward: -4   \n",
      "TRACK : state: (8, 9, 0, 3)    action: (0, 1)         accumulated_reward: -5   \n",
      "TRACK : state: (8, 13, 0, 4)   action: (0, 1)         accumulated_reward: -6   \n",
      "TRACK : state: (8, 18, 0, 5)   action: (0, -1)        accumulated_reward: -7   \n",
      "TRACK : state: (8, 22, 0, 4)   action: (1, -1)        accumulated_reward: -8   \n",
      "TRACK : state: (9, 25, 1, 3)   action: (1, 0)         accumulated_reward: -9   \n",
      "TRACK : state: (11, 28, 2, 3)  action: (0, -1)        accumulated_reward: -10  \n",
      "TRACK : state: (13, 30, 2, 2)  action: (-1, -1)       accumulated_reward: -11  \n",
      "TRACK : state: (14, 31, 1, 1)  action: (0, -1)        accumulated_reward: -12  \n",
      "GOAL  : state: (15, 31, 1, 0)  action: (-10, -10)     accumulated_reward: -13  \n"
     ]
    },
    {
     "data": {
      "image/png": "[encoded data removed]",
      "text/plain": [
       "<Figure size 432x288 with 1 Axes>"
      ]
     },
     "metadata": {
      "needs_background": "light"
     },
     "output_type": "display_data"
    }
   ],
   "source": [
    "start_state = random.choice(START_STATES)\n",
    "episode = run_episode(lambda state: target_policy[state], start_state)\n",
    "accumulated_reward = 0\n",
    "for state, action, reward in episode:\n",
    "    accumulated_reward += reward\n",
    "    \n",
    "    cell_str = cell_type(state)\n",
    "    state_str = f'state: {state} ' \n",
    "    action_str = f'action: {action} '\n",
    "    reward_str = f'accumulated_reward: {accumulated_reward} '\n",
    "    print(\n",
    "         cell_str + ' ' * ( 6 - len(cell_str)) + ': '+\n",
    "        (state_str + ' ' * (23 - len(state_str))) +\n",
    "        (action_str + ' ' * (23 - len(action_str))) +\n",
    "        (reward_str + ' ' * (25 - len(reward_str)))\n",
    "    )\n",
    "plt.figure()\n",
    "plot_episode(episode)"
   ]
  },
  {
   "cell_type": "code",
   "execution_count": 166,
   "metadata": {},
   "outputs": [
    {
     "name": "stderr",
     "output_type": "stream",
     "text": [
      "/home/troels/git/reinforcement_learning_sutton/reinforcement_learning_sutton_project/.venv/lib/python3.7/site-packages/ipykernel_launcher.py:4: MatplotlibDeprecationWarning: Adding an axes using the same arguments as a previous axes currently reuses the earlier instance.  In a future version, a new instance will always be created and returned.  Meanwhile, this warning can be suppressed, and the future behavior ensured, by passing a unique label to each axes instance.\n",
      "  after removing the cwd from sys.path.\n"
     ]
    },
    {
     "data": {
      "image/png": "[encoded data removed]",
      "text/plain": [
       "<Figure size 432x288 with 1 Axes>"
      ]
     },
     "metadata": {
      "needs_background": "light"
     },
     "output_type": "display_data"
    }
   ],
   "source": [
    "plt.figure()\n",
    "for start_state in START_STATES:\n",
    "    episode = run_episode(lambda state: target_policy[state], start_state)\n",
    "    plot_episode(episode)\n",
    "plt.show()"
   ]
  }
 ],
 "metadata": {
  "kernelspec": {
   "display_name": "Python 3",
   "language": "python",
   "name": "python3"
  },
  "language_info": {
   "codemirror_mode": {
    "name": "ipython",
    "version": 3
   },
   "file_extension": ".py",
   "mimetype": "text/x-python",
   "name": "python",
   "nbconvert_exporter": "python",
   "pygments_lexer": "ipython3",
   "version": "3.7.3"
  }
 },
 "nbformat": 4,
 "nbformat_minor": 2
}
