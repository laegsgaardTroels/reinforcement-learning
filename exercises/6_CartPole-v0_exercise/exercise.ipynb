{
 "cells": [
  {
   "cell_type": "markdown",
   "metadata": {},
   "source": [
    "![](q_learning.png)"
   ]
  },
  {
   "cell_type": "code",
   "execution_count": 227,
   "metadata": {},
   "outputs": [],
   "source": [
    "import gym\n",
    "import numpy as np\n",
    "import random\n",
    "ENV = gym.make('CartPole-v0')\n",
    "\n",
    "GAMMA = 0.5\n",
    "ALPHA = 0.005"
   ]
  },
  {
   "cell_type": "code",
   "execution_count": 219,
   "metadata": {},
   "outputs": [
    {
     "data": {
      "text/plain": [
       "17"
      ]
     },
     "execution_count": 219,
     "metadata": {},
     "output_type": "execute_result"
    }
   ],
   "source": [
    "def random_policy(observation, env):\n",
    "    \"\"\"A random action from the enviroment.\"\"\"\n",
    "    return env.action_space.sample()\n",
    "\n",
    "    \n",
    "\n",
    "def run_episode(policy, render=False, env=ENV):\n",
    "    \"\"\"Used to generate an episode.\"\"\"\n",
    "    \n",
    "    # Start the enviroment an log the start state.\n",
    "    state = env.reset()    \n",
    "    episode = []\n",
    "    \n",
    "    while True:\n",
    "        \n",
    "        if render:\n",
    "            env.render()\n",
    "        \n",
    "        action = policy(state, env)\n",
    "        \n",
    "        new_state, new_reward, done, _ = env.step(action) \n",
    "        \n",
    "        if done:\n",
    "            episode.append((state, action, -1, new_state))\n",
    "        episode.append((state, action, new_reward, new_state))\n",
    "        \n",
    "        # Current state is now the new state.\n",
    "        state = new_state\n",
    "        \n",
    "        if done:\n",
    "            break\n",
    "    \n",
    "    env.close()\n",
    "    return episode\n",
    "\n",
    "len(run_episode(random_policy, render=True, env=ENV))"
   ]
  },
  {
   "cell_type": "code",
   "execution_count": 24,
   "metadata": {},
   "outputs": [],
   "source": [
    "assert run_episode(random_policy, render=False)"
   ]
  },
  {
   "cell_type": "code",
   "execution_count": 233,
   "metadata": {},
   "outputs": [
    {
     "name": "stdout",
     "output_type": "stream",
     "text": [
      "starting w [ 1.07271902 -0.15666873 -0.06019664 -0.42025472 -1.97097622 -0.26678551]\n"
     ]
    },
    {
     "ename": "ValueError",
     "evalue": "shapes (8,) and (6,) not aligned: 8 (dim 0) != 6 (dim 0)",
     "output_type": "error",
     "traceback": [
      "\u001b[0;31m---------------------------------------------------------------------------\u001b[0m",
      "\u001b[0;31mValueError\u001b[0m                                Traceback (most recent call last)",
      "\u001b[0;32m<ipython-input-233-e70e93a8601e>\u001b[0m in \u001b[0;36m<module>\u001b[0;34m\u001b[0m\n\u001b[1;32m     96\u001b[0m \u001b[0;32mfor\u001b[0m \u001b[0m_\u001b[0m \u001b[0;32min\u001b[0m \u001b[0mrange\u001b[0m\u001b[0;34m(\u001b[0m\u001b[0;36m100\u001b[0m\u001b[0;34m)\u001b[0m\u001b[0;34m:\u001b[0m\u001b[0;34m\u001b[0m\u001b[0;34m\u001b[0m\u001b[0m\n\u001b[1;32m     97\u001b[0m \u001b[0;34m\u001b[0m\u001b[0m\n\u001b[0;32m---> 98\u001b[0;31m     \u001b[0mexperience\u001b[0m \u001b[0;34m=\u001b[0m \u001b[0mget_experience\u001b[0m\u001b[0;34m(\u001b[0m\u001b[0mmodel\u001b[0m\u001b[0;34m,\u001b[0m \u001b[0mpolicy\u001b[0m\u001b[0;34m,\u001b[0m \u001b[0mexperience_length\u001b[0m\u001b[0;34m)\u001b[0m\u001b[0;34m\u001b[0m\u001b[0;34m\u001b[0m\u001b[0m\n\u001b[0m\u001b[1;32m     99\u001b[0m \u001b[0;34m\u001b[0m\u001b[0m\n\u001b[1;32m    100\u001b[0m     \u001b[0mprint\u001b[0m\u001b[0;34m(\u001b[0m\u001b[0;34mf'mse: {mse(experience, model)}, average experience length: {len(experience) / experience_length}'\u001b[0m\u001b[0;34m)\u001b[0m\u001b[0;34m\u001b[0m\u001b[0;34m\u001b[0m\u001b[0m\n",
      "\u001b[0;32m<ipython-input-233-e70e93a8601e>\u001b[0m in \u001b[0;36mget_experience\u001b[0;34m(model, policy, experience_size)\u001b[0m\n\u001b[1;32m     52\u001b[0m     \u001b[0;32mfor\u001b[0m \u001b[0mi\u001b[0m \u001b[0;32min\u001b[0m \u001b[0mrange\u001b[0m\u001b[0;34m(\u001b[0m\u001b[0mexperience_size\u001b[0m\u001b[0;34m)\u001b[0m\u001b[0;34m:\u001b[0m\u001b[0;34m\u001b[0m\u001b[0;34m\u001b[0m\u001b[0m\n\u001b[1;32m     53\u001b[0m \u001b[0;34m\u001b[0m\u001b[0m\n\u001b[0;32m---> 54\u001b[0;31m         \u001b[0mepisode\u001b[0m \u001b[0;34m=\u001b[0m \u001b[0mrun_episode\u001b[0m\u001b[0;34m(\u001b[0m\u001b[0mpolicy\u001b[0m\u001b[0;34m.\u001b[0m\u001b[0mpolicy\u001b[0m\u001b[0;34m)\u001b[0m\u001b[0;34m\u001b[0m\u001b[0;34m\u001b[0m\u001b[0m\n\u001b[0m\u001b[1;32m     55\u001b[0m \u001b[0;34m\u001b[0m\u001b[0m\n\u001b[1;32m     56\u001b[0m         training = get_training(\n",
      "\u001b[0;32m<ipython-input-219-e815c3ca5c24>\u001b[0m in \u001b[0;36mrun_episode\u001b[0;34m(policy, render, env)\u001b[0m\n\u001b[1;32m     17\u001b[0m             \u001b[0menv\u001b[0m\u001b[0;34m.\u001b[0m\u001b[0mrender\u001b[0m\u001b[0;34m(\u001b[0m\u001b[0;34m)\u001b[0m\u001b[0;34m\u001b[0m\u001b[0;34m\u001b[0m\u001b[0m\n\u001b[1;32m     18\u001b[0m \u001b[0;34m\u001b[0m\u001b[0m\n\u001b[0;32m---> 19\u001b[0;31m         \u001b[0maction\u001b[0m \u001b[0;34m=\u001b[0m \u001b[0mpolicy\u001b[0m\u001b[0;34m(\u001b[0m\u001b[0mstate\u001b[0m\u001b[0;34m,\u001b[0m \u001b[0menv\u001b[0m\u001b[0;34m)\u001b[0m\u001b[0;34m\u001b[0m\u001b[0;34m\u001b[0m\u001b[0m\n\u001b[0m\u001b[1;32m     20\u001b[0m \u001b[0;34m\u001b[0m\u001b[0m\n\u001b[1;32m     21\u001b[0m         \u001b[0mnew_state\u001b[0m\u001b[0;34m,\u001b[0m \u001b[0mnew_reward\u001b[0m\u001b[0;34m,\u001b[0m \u001b[0mdone\u001b[0m\u001b[0;34m,\u001b[0m \u001b[0m_\u001b[0m \u001b[0;34m=\u001b[0m \u001b[0menv\u001b[0m\u001b[0;34m.\u001b[0m\u001b[0mstep\u001b[0m\u001b[0;34m(\u001b[0m\u001b[0maction\u001b[0m\u001b[0;34m)\u001b[0m\u001b[0;34m\u001b[0m\u001b[0;34m\u001b[0m\u001b[0m\n",
      "\u001b[0;32m<ipython-input-233-e70e93a8601e>\u001b[0m in \u001b[0;36mpolicy\u001b[0;34m(self, state, env)\u001b[0m\n\u001b[1;32m     21\u001b[0m         \u001b[0;32mif\u001b[0m \u001b[0mrandom\u001b[0m\u001b[0;34m.\u001b[0m\u001b[0mrandom\u001b[0m\u001b[0;34m(\u001b[0m\u001b[0;34m)\u001b[0m \u001b[0;34m<=\u001b[0m \u001b[0mself\u001b[0m\u001b[0;34m.\u001b[0m\u001b[0mepsilon\u001b[0m\u001b[0;34m:\u001b[0m\u001b[0;34m\u001b[0m\u001b[0;34m\u001b[0m\u001b[0m\n\u001b[1;32m     22\u001b[0m             \u001b[0;32mreturn\u001b[0m \u001b[0mrandom_action\u001b[0m\u001b[0;34m\u001b[0m\u001b[0;34m\u001b[0m\u001b[0m\n\u001b[0;32m---> 23\u001b[0;31m         \u001b[0;32mreturn\u001b[0m \u001b[0mmax\u001b[0m\u001b[0;34m(\u001b[0m\u001b[0;34m[\u001b[0m\u001b[0;34m(\u001b[0m\u001b[0mmodel\u001b[0m\u001b[0;34m.\u001b[0m\u001b[0maction_value\u001b[0m\u001b[0;34m(\u001b[0m\u001b[0mstate\u001b[0m\u001b[0;34m,\u001b[0m \u001b[0maction\u001b[0m\u001b[0;34m)\u001b[0m\u001b[0;34m,\u001b[0m \u001b[0maction\u001b[0m\u001b[0;34m)\u001b[0m \u001b[0;32mfor\u001b[0m \u001b[0maction\u001b[0m \u001b[0;32min\u001b[0m \u001b[0;34m[\u001b[0m\u001b[0;36m0\u001b[0m\u001b[0;34m,\u001b[0m \u001b[0;36m1\u001b[0m\u001b[0;34m]\u001b[0m\u001b[0;34m]\u001b[0m\u001b[0;34m)\u001b[0m\u001b[0;34m[\u001b[0m\u001b[0;36m1\u001b[0m\u001b[0;34m]\u001b[0m\u001b[0;34m\u001b[0m\u001b[0;34m\u001b[0m\u001b[0m\n\u001b[0m\u001b[1;32m     24\u001b[0m \u001b[0;34m\u001b[0m\u001b[0m\n\u001b[1;32m     25\u001b[0m \u001b[0;34m\u001b[0m\u001b[0m\n",
      "\u001b[0;32m<ipython-input-233-e70e93a8601e>\u001b[0m in \u001b[0;36m<listcomp>\u001b[0;34m(.0)\u001b[0m\n\u001b[1;32m     21\u001b[0m         \u001b[0;32mif\u001b[0m \u001b[0mrandom\u001b[0m\u001b[0;34m.\u001b[0m\u001b[0mrandom\u001b[0m\u001b[0;34m(\u001b[0m\u001b[0;34m)\u001b[0m \u001b[0;34m<=\u001b[0m \u001b[0mself\u001b[0m\u001b[0;34m.\u001b[0m\u001b[0mepsilon\u001b[0m\u001b[0;34m:\u001b[0m\u001b[0;34m\u001b[0m\u001b[0;34m\u001b[0m\u001b[0m\n\u001b[1;32m     22\u001b[0m             \u001b[0;32mreturn\u001b[0m \u001b[0mrandom_action\u001b[0m\u001b[0;34m\u001b[0m\u001b[0;34m\u001b[0m\u001b[0m\n\u001b[0;32m---> 23\u001b[0;31m         \u001b[0;32mreturn\u001b[0m \u001b[0mmax\u001b[0m\u001b[0;34m(\u001b[0m\u001b[0;34m[\u001b[0m\u001b[0;34m(\u001b[0m\u001b[0mmodel\u001b[0m\u001b[0;34m.\u001b[0m\u001b[0maction_value\u001b[0m\u001b[0;34m(\u001b[0m\u001b[0mstate\u001b[0m\u001b[0;34m,\u001b[0m \u001b[0maction\u001b[0m\u001b[0;34m)\u001b[0m\u001b[0;34m,\u001b[0m \u001b[0maction\u001b[0m\u001b[0;34m)\u001b[0m \u001b[0;32mfor\u001b[0m \u001b[0maction\u001b[0m \u001b[0;32min\u001b[0m \u001b[0;34m[\u001b[0m\u001b[0;36m0\u001b[0m\u001b[0;34m,\u001b[0m \u001b[0;36m1\u001b[0m\u001b[0;34m]\u001b[0m\u001b[0;34m]\u001b[0m\u001b[0;34m)\u001b[0m\u001b[0;34m[\u001b[0m\u001b[0;36m1\u001b[0m\u001b[0;34m]\u001b[0m\u001b[0;34m\u001b[0m\u001b[0;34m\u001b[0m\u001b[0m\n\u001b[0m\u001b[1;32m     24\u001b[0m \u001b[0;34m\u001b[0m\u001b[0m\n\u001b[1;32m     25\u001b[0m \u001b[0;34m\u001b[0m\u001b[0m\n",
      "\u001b[0;32m<ipython-input-233-e70e93a8601e>\u001b[0m in \u001b[0;36maction_value\u001b[0;34m(self, state, action)\u001b[0m\n\u001b[1;32m      9\u001b[0m     \u001b[0;32mdef\u001b[0m \u001b[0maction_value\u001b[0m\u001b[0;34m(\u001b[0m\u001b[0mself\u001b[0m\u001b[0;34m,\u001b[0m \u001b[0mstate\u001b[0m\u001b[0;34m,\u001b[0m \u001b[0maction\u001b[0m\u001b[0;34m)\u001b[0m\u001b[0;34m:\u001b[0m\u001b[0;34m\u001b[0m\u001b[0;34m\u001b[0m\u001b[0m\n\u001b[1;32m     10\u001b[0m         \u001b[0mX\u001b[0m \u001b[0;34m=\u001b[0m \u001b[0mget_feature\u001b[0m\u001b[0;34m(\u001b[0m\u001b[0mstate\u001b[0m\u001b[0;34m,\u001b[0m \u001b[0maction\u001b[0m\u001b[0;34m)\u001b[0m\u001b[0;34m\u001b[0m\u001b[0;34m\u001b[0m\u001b[0m\n\u001b[0;32m---> 11\u001b[0;31m         \u001b[0;32mreturn\u001b[0m \u001b[0mX\u001b[0m\u001b[0;34m.\u001b[0m\u001b[0mdot\u001b[0m\u001b[0;34m(\u001b[0m\u001b[0mself\u001b[0m\u001b[0;34m.\u001b[0m\u001b[0mw\u001b[0m\u001b[0;34m)\u001b[0m\u001b[0;34m\u001b[0m\u001b[0;34m\u001b[0m\u001b[0m\n\u001b[0m\u001b[1;32m     12\u001b[0m \u001b[0;34m\u001b[0m\u001b[0m\n\u001b[1;32m     13\u001b[0m \u001b[0;34m\u001b[0m\u001b[0m\n",
      "\u001b[0;31mValueError\u001b[0m: shapes (8,) and (6,) not aligned: 8 (dim 0) != 6 (dim 0)"
     ]
    }
   ],
   "source": [
    "def get_feature(state, action):\n",
    "    return np.append(state, [action, 1.0]) \n",
    "\n",
    "class linear_model:\n",
    "    \n",
    "    def __init__(self, m):\n",
    "        self.w = np.random.normal(size = m)\n",
    "        \n",
    "    def action_value(self, state, action):\n",
    "        X = get_feature(state, action)\n",
    "        return X.dot(self.w)\n",
    "    \n",
    "    \n",
    "class epsilon_greedy_policy:\n",
    "    def __init__(self, epsilon, model):\n",
    "        self.epsilon = epsilon\n",
    "        self.model = model\n",
    "\n",
    "    def policy(self, state, env):\n",
    "        random_action = random.choice([0, 1])\n",
    "        if random.random() <= self.epsilon:\n",
    "            return random_action\n",
    "        return max([(model.action_value(state, action), action) for action in [0, 1]])[1]\n",
    "\n",
    "    \n",
    "class greedy_policy:\n",
    "    def __init__(self, model):\n",
    "        self.model = model\n",
    "        \n",
    "    def policy(self, state, env):\n",
    "        return max([(model.action_value(state, action), action) for action in [0, 1]])[1]\n",
    "\n",
    "    \n",
    "def get_training(episode, action_value):\n",
    "    \"\"\"Create a training dataset using TD(0) target.\"\"\"\n",
    "    \n",
    "    training = []\n",
    "    \n",
    "    for state, action, new_reward, new_state in episode:\n",
    "        \n",
    "        X = get_feature(state, action)\n",
    "        y = new_reward + GAMMA * max(action_value(new_state, action) for action in [0, 1])\n",
    "        \n",
    "        training.append((X, y))\n",
    "        \n",
    "    return training\n",
    "    \n",
    "\n",
    "def get_experience(model, policy, experience_size=10):\n",
    "    experience = []\n",
    "    \n",
    "    for i in range(experience_size):\n",
    "\n",
    "        episode = run_episode(policy.policy)\n",
    "\n",
    "        training = get_training(\n",
    "            episode = episode,\n",
    "            action_value = model.action_value\n",
    "        )\n",
    "\n",
    "        experience.extend(training)\n",
    "    return experience\n",
    "\n",
    "\n",
    "def update(model, experience, minibatches=100, minibatch_size=64):\n",
    "    \n",
    "    for _ in range(minibatches):\n",
    "        \n",
    "        random.shuffle(experience)\n",
    "        \n",
    "        for i in range(0, len(experience), minibatch_size):\n",
    "            gradient = get_gradient(model, experience[i:(i+minibatch_size)])\n",
    "            model.w = model.w - ALPHA * gradient\n",
    "\n",
    "        \n",
    "def mse(experience, model):\n",
    "    _mse = 0\n",
    "    for X, y in experience:\n",
    "        _mse += (model.w.dot(X) - y)\n",
    "    return _mse / len(experience)\n",
    "\n",
    "def get_gradient(model, experience):\n",
    "    _delta = 0\n",
    "    for X, y in experience:\n",
    "        _delta += (model.w.dot(X) - y) * X\n",
    "    \n",
    "    return _delta / len(experience)\n",
    "\n",
    "\n",
    "model = linear_model(m=6)\n",
    "policy = epsilon_greedy_policy(0.9, model)\n",
    "experience_length=10\n",
    "\n",
    "print(f'starting w {model.w}')\n",
    "\n",
    "for _ in range(100):\n",
    "    \n",
    "    experience = get_experience(model, policy, experience_length)\n",
    "    \n",
    "    print(f'mse: {mse(experience, model)}, average experience length: {len(experience) / experience_length}')\n",
    "    \n",
    "    update(model, experience)\n",
    "    \n",
    "    \n",
    "    #print(f'experience length: {len(experience)}')\n",
    "\n",
    "print(f'ending w {model.w}')\n",
    "\n",
    "final_policy = greedy_policy(model)"
   ]
  },
  {
   "cell_type": "code",
   "execution_count": 99,
   "metadata": {},
   "outputs": [
    {
     "data": {
      "text/plain": [
       "array([-1343.02079992,  -650.79698822,  2538.25079922, -1419.68784436])"
      ]
     },
     "execution_count": 99,
     "metadata": {},
     "output_type": "execute_result"
    }
   ],
   "source": [
    "model.w"
   ]
  },
  {
   "cell_type": "code",
   "execution_count": 209,
   "metadata": {},
   "outputs": [
    {
     "data": {
      "text/plain": [
       "[(array([ 0.00359954,  0.00246077, -0.03854915,  0.02889756]),\n",
       "  0,\n",
       "  1.0,\n",
       "  array([ 0.00364876, -0.19208776, -0.0379712 ,  0.30917292])),\n",
       " (array([ 0.00364876, -0.19208776, -0.0379712 ,  0.30917292]),\n",
       "  0,\n",
       "  1.0,\n",
       "  array([-1.92997400e-04, -3.86648699e-01, -3.17877451e-02,  5.89643105e-01])),\n",
       " (array([-1.92997400e-04, -3.86648699e-01, -3.17877451e-02,  5.89643105e-01]),\n",
       "  0,\n",
       "  1.0,\n",
       "  array([-0.00792597, -0.58131147, -0.01999488,  0.87214572])),\n",
       " (array([-0.00792597, -0.58131147, -0.01999488,  0.87214572]),\n",
       "  0,\n",
       "  1.0,\n",
       "  array([-0.0195522 , -0.77615588, -0.00255197,  1.15847581])),\n",
       " (array([-0.0195522 , -0.77615588, -0.00255197,  1.15847581]),\n",
       "  0,\n",
       "  1.0,\n",
       "  array([-0.03507532, -0.97124448,  0.02061755,  1.45035748])),\n",
       " (array([-0.03507532, -0.97124448,  0.02061755,  1.45035748]),\n",
       "  0,\n",
       "  1.0,\n",
       "  array([-0.05450021, -1.16661365,  0.0496247 ,  1.74941008])),\n",
       " (array([-0.05450021, -1.16661365,  0.0496247 ,  1.74941008]),\n",
       "  0,\n",
       "  1.0,\n",
       "  array([-0.07783248, -1.36226279,  0.0846129 ,  2.05710618])),\n",
       " (array([-0.07783248, -1.36226279,  0.0846129 ,  2.05710618]),\n",
       "  0,\n",
       "  1.0,\n",
       "  array([-0.10507774, -1.55814116,  0.12575502,  2.37471911])),\n",
       " (array([-0.10507774, -1.55814116,  0.12575502,  2.37471911]),\n",
       "  0,\n",
       "  1.0,\n",
       "  array([-0.13624056, -1.75413202,  0.1732494 ,  2.70325847])),\n",
       " (array([-0.13624056, -1.75413202,  0.1732494 ,  2.70325847]),\n",
       "  0,\n",
       "  -1,\n",
       "  array([-0.1713232 , -1.95003424,  0.22731457,  3.04339368])),\n",
       " (array([-0.13624056, -1.75413202,  0.1732494 ,  2.70325847]),\n",
       "  0,\n",
       "  1.0,\n",
       "  array([-0.1713232 , -1.95003424,  0.22731457,  3.04339368]))]"
      ]
     },
     "execution_count": 209,
     "metadata": {},
     "output_type": "execute_result"
    }
   ],
   "source": [
    "ENV.reset()\n",
    "run_episode(final_policy.policy, render=True, env=ENV)"
   ]
  }
 ],
 "metadata": {
  "kernelspec": {
   "display_name": "Python 3",
   "language": "python",
   "name": "python3"
  },
  "language_info": {
   "codemirror_mode": {
    "name": "ipython",
    "version": 3
   },
   "file_extension": ".py",
   "mimetype": "text/x-python",
   "name": "python",
   "nbconvert_exporter": "python",
   "pygments_lexer": "ipython3",
   "version": "3.7.3"
  }
 },
 "nbformat": 4,
 "nbformat_minor": 2
}
