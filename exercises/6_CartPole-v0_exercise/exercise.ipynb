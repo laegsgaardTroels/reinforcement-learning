{
 "cells": [
  {
   "cell_type": "markdown",
   "metadata": {},
   "source": [
    "![](q_learning.png)"
   ]
  },
  {
   "cell_type": "code",
   "execution_count": 1,
   "metadata": {},
   "outputs": [
    {
     "ename": "ImportError",
     "evalue": "cannot import name 'Adam' from 'keras.optimizers' (/Users/troelslaegsgaard/Git/reinforcement-learning/envs/reinforcement-learning/lib/python3.10/site-packages/keras/optimizers.py)",
     "output_type": "error",
     "traceback": [
      "\u001b[0;31m---------------------------------------------------------------------------\u001b[0m",
      "\u001b[0;31mImportError\u001b[0m                               Traceback (most recent call last)",
      "Input \u001b[0;32mIn [1]\u001b[0m, in \u001b[0;36m<cell line: 1>\u001b[0;34m()\u001b[0m\n\u001b[0;32m----> 1\u001b[0m \u001b[38;5;28;01mimport\u001b[39;00m \u001b[38;5;21;01mtrain\u001b[39;00m\n\u001b[1;32m      3\u001b[0m train\u001b[38;5;241m.\u001b[39mmain()\n",
      "File \u001b[0;32m~/Git/reinforcement-learning/exercises/6_CartPole-v0_exercise/train.py:8\u001b[0m, in \u001b[0;36m<module>\u001b[0;34m\u001b[0m\n\u001b[1;32m      6\u001b[0m \u001b[38;5;28;01mfrom\u001b[39;00m \u001b[38;5;21;01mkeras\u001b[39;00m\u001b[38;5;21;01m.\u001b[39;00m\u001b[38;5;21;01mmodels\u001b[39;00m \u001b[38;5;28;01mimport\u001b[39;00m Sequential\n\u001b[1;32m      7\u001b[0m \u001b[38;5;28;01mfrom\u001b[39;00m \u001b[38;5;21;01mkeras\u001b[39;00m\u001b[38;5;21;01m.\u001b[39;00m\u001b[38;5;21;01mlayers\u001b[39;00m \u001b[38;5;28;01mimport\u001b[39;00m Dense, Activation\n\u001b[0;32m----> 8\u001b[0m \u001b[38;5;28;01mfrom\u001b[39;00m \u001b[38;5;21;01mkeras\u001b[39;00m\u001b[38;5;21;01m.\u001b[39;00m\u001b[38;5;21;01moptimizers\u001b[39;00m \u001b[38;5;28;01mimport\u001b[39;00m Adam\n\u001b[1;32m     10\u001b[0m ENV \u001b[38;5;241m=\u001b[39m gym\u001b[38;5;241m.\u001b[39mmake(\u001b[38;5;124m'\u001b[39m\u001b[38;5;124mCartPole-v0\u001b[39m\u001b[38;5;124m'\u001b[39m)\n\u001b[1;32m     13\u001b[0m \u001b[38;5;28;01mdef\u001b[39;00m \u001b[38;5;21mrandom_policy\u001b[39m(state):\n",
      "\u001b[0;31mImportError\u001b[0m: cannot import name 'Adam' from 'keras.optimizers' (/Users/troelslaegsgaard/Git/reinforcement-learning/envs/reinforcement-learning/lib/python3.10/site-packages/keras/optimizers.py)"
     ]
    }
   ],
   "source": [
    "import train\n",
    "\n",
    "train.main()"
   ]
  },
  {
   "cell_type": "code",
   "execution_count": null,
   "metadata": {},
   "outputs": [],
   "source": [
    "import gym\n",
    "gym.__version__"
   ]
  },
  {
   "cell_type": "code",
   "execution_count": null,
   "metadata": {},
   "outputs": [],
   "source": [
    "def random_policy(observation, env):\n",
    "    \"\"\"A random action from the enviroment.\"\"\"\n",
    "    return env.action_space.sample()\n",
    "\n",
    "    \n",
    "\n",
    "def run_episode(policy, render=False, env=ENV):\n",
    "    \"\"\"Used to generate an episode.\"\"\"\n",
    "    \n",
    "    # Start the enviroment an log the start state.\n",
    "    state = env.reset()    \n",
    "    episode = []\n",
    "    \n",
    "    while True:\n",
    "        \n",
    "        if render:\n",
    "            env.render()\n",
    "        \n",
    "        action = policy(state, env)\n",
    "        \n",
    "        new_state, new_reward, done, _ = env.step(action) \n",
    "        \n",
    "        if done:\n",
    "            episode.append((state, action, -1, new_state))\n",
    "        episode.append((state, action, new_reward, new_state))\n",
    "        \n",
    "        # Current state is now the new state.\n",
    "        state = new_state\n",
    "        \n",
    "        if done:\n",
    "            break\n",
    "    \n",
    "    env.close()\n",
    "    return episode\n",
    "\n",
    "len(run_episode(random_policy, render=True, env=ENV))"
   ]
  },
  {
   "cell_type": "code",
   "execution_count": null,
   "metadata": {},
   "outputs": [],
   "source": [
    "assert run_episode(random_policy, render=False)"
   ]
  },
  {
   "cell_type": "code",
   "execution_count": null,
   "metadata": {
    "scrolled": true
   },
   "outputs": [],
   "source": [
    "import itertools\n",
    "\n",
    "\n",
    "def get_feature(state, action):\n",
    "    return np.append(state, [action, 1.0]) \n",
    "\n",
    "class linear_model:\n",
    "    \n",
    "    def __init__(self, m):\n",
    "        self.w = np.random.normal(size = m)\n",
    "        \n",
    "    def action_value(self, state, action):\n",
    "        X = get_feature(state, action)\n",
    "        return X.dot(self.w)\n",
    "    \n",
    "    \n",
    "class epsilon_greedy_policy:\n",
    "    def __init__(self, epsilon, model):\n",
    "        self.epsilon = epsilon\n",
    "        self.model = model\n",
    "\n",
    "    def policy(self, state, env):\n",
    "        random_action = random.choice([0, 1])\n",
    "        if random.random() <= self.epsilon:\n",
    "            return random_action\n",
    "        return max([(model.action_value(state, action), action) for action in [0, 1]])[1]\n",
    "\n",
    "    \n",
    "class greedy_policy:\n",
    "    def __init__(self, model):\n",
    "        self.model = model\n",
    "        \n",
    "    def policy(self, state, env):\n",
    "        return max([(model.action_value(state, action), action) for action in [0, 1]])[1]\n",
    "\n",
    "    \n",
    "def get_training(episode, action_value):\n",
    "    \"\"\"Create a training dataset using TD(0) target.\"\"\"\n",
    "    \n",
    "    training = []\n",
    "    \n",
    "    for state, action, new_reward, new_state in episode:\n",
    "        \n",
    "        X = get_feature(state, action)\n",
    "        y = new_reward + GAMMA * max(action_value(new_state, action) for action in [0, 1])\n",
    "        \n",
    "        training.append((X, y))\n",
    "        \n",
    "    return training\n",
    "    \n",
    "\n",
    "def get_experience(model, policy, experience_size=10):\n",
    "    experience = []\n",
    "    \n",
    "    for i in range(experience_size):\n",
    "\n",
    "        episode = run_episode(policy.policy)\n",
    "        experience.extend(episode)\n",
    "    return experience\n",
    "\n",
    "\n",
    "def update(model, experience, minibatches=100, minibatch_size=64):\n",
    "    \n",
    "    for _ in range(minibatches):\n",
    "        \n",
    "        random.shuffle(experience)\n",
    "        \n",
    "        for i in range(0, len(experience), minibatch_size):\n",
    "            gradient = get_gradient(model, experience[i:(i+minibatch_size)])\n",
    "            model.w = model.w - ALPHA * gradient\n",
    "\n",
    "        \n",
    "def mse(experience, model):\n",
    "    _mse = 0\n",
    "    for X, y in experience:\n",
    "        _mse += (model.w.dot(X) - y)\n",
    "    return _mse / len(experience)\n",
    "\n",
    "def get_gradient(model, experience):\n",
    "    _delta = 0\n",
    "    for X, y in experience:\n",
    "        _delta += (model.w.dot(X) - y) * X\n",
    "    \n",
    "    return _delta / len(experience)\n",
    "\n",
    "\n",
    "model = linear_model(m=6)\n",
    "policy = epsilon_greedy_policy(0.9, model)\n",
    "experience_length=10\n",
    "\n",
    "experience = []\n",
    "\n",
    "print(f'starting w {model.w}')\n",
    "\n",
    "for e in range(100):\n",
    "    \n",
    "    new_experience = get_experience(model, policy, experience_length)\n",
    "    print(f\"Length of new experience: {len(new_experience) / experience_length}\")\n",
    "    experience.append(new_experience)\n",
    "    training = list(itertools.chain.from_iterable(map(lambda episode: get_training(episode, action_value = model.action_value), experience)))\n",
    "        \n",
    "    update(model, training)\n",
    "    \n",
    "    \n",
    "    #print(f'experience length: {len(experience)}')\n",
    "\n",
    "print(f'ending w {model.w}')\n",
    "\n",
    "final_policy = greedy_policy(model)"
   ]
  },
  {
   "cell_type": "code",
   "execution_count": null,
   "metadata": {},
   "outputs": [],
   "source": [
    "import itertools\n",
    "list(itertools.chain.from_iterable(experience))"
   ]
  }
 ],
 "metadata": {
  "kernelspec": {
   "display_name": "Python 3 (ipykernel)",
   "language": "python",
   "name": "python3"
  },
  "language_info": {
   "codemirror_mode": {
    "name": "ipython",
    "version": 3
   },
   "file_extension": ".py",
   "mimetype": "text/x-python",
   "name": "python",
   "nbconvert_exporter": "python",
   "pygments_lexer": "ipython3",
   "version": "3.10.5"
  }
 },
 "nbformat": 4,
 "nbformat_minor": 4
}
