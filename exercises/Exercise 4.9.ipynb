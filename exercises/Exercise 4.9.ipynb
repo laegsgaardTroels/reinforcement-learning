{
 "cells": [
  {
   "cell_type": "code",
   "execution_count": 1,
   "metadata": {},
   "outputs": [],
   "source": [
    "%load_ext autoreload\n",
    "%autoreload 2\n",
    "%matplotlib inline\n",
    "\n",
    "import matplotlib.pyplot as plt\n",
    "import pandas as pd\n",
    "import numpy as np\n",
    "\n",
    "PROBABILITY_HEADS = 0.4\n",
    "GOAL = 100\n",
    "STATES = np.arange(GOAL + 1)\n",
    "EPSILON = 1e-09\n",
    "GAMMA = 1\n",
    "\n",
    "\n",
    "def actions(state):\n",
    "    \"\"\"The actions available at a given state.\n",
    "    \"\"\"\n",
    "    return np.arange(min(state, GOAL - state) + 1)\n",
    "\n",
    "\n",
    "def reward(s):\n",
    "    \"\"\"Reward at a given state.\n",
    "    \"\"\"\n",
    "    if s == 100:\n",
    "        return 1\n",
    "    return 0\n",
    "\n",
    "\n",
    "def sigma(state_value, state):\n",
    "    \"\"\"A list of each sum in the max and argmax of the algorithm, page 67.\n",
    "    \"\"\"\n",
    "    action_value = []\n",
    "    for action in actions(state):\n",
    "        action_value.append(\n",
    "            PROBABILITY_HEADS * (reward(state + action) + GAMMA * state_value[state + action]) + \n",
    "            (1 - PROBABILITY_HEADS) * (reward(state - action) + GAMMA * state_value[state - action])\n",
    "        )\n",
    "    return np.array(action_value)\n",
    "\n",
    "\n",
    "def optimal_policy(state_value, state, without_zero_action=False):\n",
    "    \"\"\"Use the state and state_value to infer the optimal policy.\n",
    "    \n",
    "    The without_zero_action drops the 0 action, e.g. action of not betting,\n",
    "    and rounds to 5th decimal. This was seemingly done in the example in\n",
    "    the book.\n",
    "    \"\"\"\n",
    "    if without_zero_action:\n",
    "        return np.argmax(np.round(sigma(state_value, state), 5)[1:]) + 1\n",
    "    return np.argmax(sigma(state_value, state))\n",
    "\n",
    "\n",
    "def value_iteration_example():\n",
    "    \"\"\"Do the value iteration for the example.\n",
    "    \"\"\"\n",
    "\n",
    "    # Initialize states.\n",
    "    state_value = np.zeros(GOAL + 1)\n",
    "    state_value[GOAL] = 1.0\n",
    "    \n",
    "    # Calculate the value function.\n",
    "    while True:\n",
    "        old_state_value = state_value.copy()\n",
    "        for state in STATES[1:-1]:\n",
    "            state_value[state] = np.max(sigma(state_value, state))\n",
    "\n",
    "        delta = abs(old_state_value - state_value).max()\n",
    "        if delta < EPSILON:\n",
    "            break\n",
    "\n",
    "    # Calculate the policy function.\n",
    "    policy = np.zeros(GOAL + 1)\n",
    "    for state in STATES[1:-1]:\n",
    "        policy[state] = optimal_policy(state_value, state, without_zero_action=True)\n",
    "        \n",
    "    # Take the subset of states {1, ... , 99}\n",
    "    state_value = state_value[1:-1]\n",
    "    policy = policy[1:-1]\n",
    "\n",
    "    return state_value, policy"
   ]
  },
  {
   "cell_type": "markdown",
   "metadata": {},
   "source": [
    "# Run the algorithm"
   ]
  },
  {
   "cell_type": "code",
   "execution_count": 2,
   "metadata": {},
   "outputs": [],
   "source": [
    "state_value, policy = value_iteration_example()"
   ]
  },
  {
   "cell_type": "code",
   "execution_count": 3,
   "metadata": {},
   "outputs": [
    {
     "data": {
      "text/plain": [
       "array([0.0041, 0.0103, 0.0185, 0.0258, 0.0348, 0.0461, 0.0556, 0.0646,\n",
       "       0.0754, 0.0869, 0.1007, 0.1153, 0.1305, 0.1391, 0.1489, 0.1614,\n",
       "       0.1732, 0.1884, 0.2063, 0.2173, 0.2319, 0.2518, 0.2672, 0.2883,\n",
       "       0.32  , 0.3262, 0.3355, 0.3477, 0.3587, 0.3722, 0.3892, 0.4034,\n",
       "       0.4168, 0.4331, 0.4504, 0.4711, 0.493 , 0.5157, 0.5286, 0.5433,\n",
       "       0.5621, 0.5798, 0.6026, 0.6294, 0.646 , 0.6679, 0.6977, 0.7207,\n",
       "       0.7524, 0.8   , 0.8062, 0.8155, 0.8277, 0.8387, 0.8522, 0.8692,\n",
       "       0.8834, 0.8968, 0.9131, 0.9304, 0.9511, 0.973 , 0.9957, 1.0086,\n",
       "       1.0233, 1.0421, 1.0598, 1.0826, 1.1094, 1.126 , 1.1479, 1.1777,\n",
       "       1.2007, 1.2324, 1.28  , 1.2893, 1.3032, 1.3215, 1.3381, 1.3582,\n",
       "       1.3838, 1.4052, 1.4252, 1.4496, 1.4756, 1.5066, 1.5395, 1.5736,\n",
       "       1.5929, 1.6149, 1.6431, 1.6697, 1.704 , 1.7441, 1.769 , 1.8018,\n",
       "       1.8465, 1.8811, 1.9287])"
      ]
     },
     "execution_count": 3,
     "metadata": {},
     "output_type": "execute_result"
    }
   ],
   "source": [
    "np.round(state_value, 4)"
   ]
  },
  {
   "cell_type": "code",
   "execution_count": 4,
   "metadata": {},
   "outputs": [
    {
     "data": {
      "text/plain": [
       "array([ 1.,  2.,  3.,  4.,  5.,  6.,  7.,  8.,  9., 10., 11., 12., 12.,\n",
       "       11., 10.,  9.,  8.,  7.,  6.,  5.,  4.,  3.,  2.,  1., 25.,  1.,\n",
       "        2.,  3.,  4.,  5.,  6.,  7.,  8.,  9., 10., 11., 12., 12., 11.,\n",
       "       10.,  9.,  8.,  7.,  6.,  5.,  4.,  3.,  2.,  1., 50.,  1.,  2.,\n",
       "        3.,  4.,  5.,  6.,  7.,  8.,  9., 10., 11., 12., 12., 11., 10.,\n",
       "        9.,  8.,  7.,  6.,  5.,  4.,  3.,  2.,  1., 25.,  1.,  2.,  3.,\n",
       "        4.,  5.,  6.,  7.,  8.,  9., 10., 11., 12., 12., 11., 10.,  9.,\n",
       "        8.,  7.,  6.,  5.,  4.,  3.,  2.,  1.])"
      ]
     },
     "execution_count": 4,
     "metadata": {},
     "output_type": "execute_result"
    }
   ],
   "source": [
    "policy"
   ]
  },
  {
   "cell_type": "markdown",
   "metadata": {},
   "source": [
    "# Visualize"
   ]
  },
  {
   "cell_type": "code",
   "execution_count": 5,
   "metadata": {},
   "outputs": [
    {
     "data": {
      "text/plain": [
       "[<matplotlib.lines.Line2D at 0x7f25ef699828>]"
      ]
     },
     "execution_count": 5,
     "metadata": {},
     "output_type": "execute_result"
    },
    {
     "data": {
      "image/png": "[encoded data removed]",
      "text/plain": [
       "<Figure size 1080x720 with 2 Axes>"
      ]
     },
     "metadata": {
      "needs_background": "light"
     },
     "output_type": "display_data"
    }
   ],
   "source": [
    "plt.figure(figsize=(15,10))\n",
    "plt.subplot(121)\n",
    "plt.plot(state_value)\n",
    "plt.subplot(122)\n",
    "plt.plot(policy, '*')"
   ]
  },
  {
   "cell_type": "markdown",
   "metadata": {},
   "source": [
    "# Tests"
   ]
  },
  {
   "cell_type": "code",
   "execution_count": 41,
   "metadata": {},
   "outputs": [
    {
     "ename": "AssertionError",
     "evalue": "",
     "output_type": "error",
     "traceback": [
      "\u001b[0;31m---------------------------------------------------------------------------\u001b[0m",
      "\u001b[0;31mAssertionError\u001b[0m                            Traceback (most recent call last)",
      "\u001b[0;32m<ipython-input-41-d2acc10e0f86>\u001b[0m in \u001b[0;36m<module>\u001b[0;34m\u001b[0m\n\u001b[1;32m     11\u001b[0m \u001b[0;31m# Test `value_iteration_example()`.\u001b[0m\u001b[0;34m\u001b[0m\u001b[0;34m\u001b[0m\u001b[0;34m\u001b[0m\u001b[0m\n\u001b[1;32m     12\u001b[0m \u001b[0mstate_value\u001b[0m\u001b[0;34m,\u001b[0m \u001b[0mpolicy\u001b[0m \u001b[0;34m=\u001b[0m \u001b[0mvalue_iteration_example\u001b[0m\u001b[0;34m(\u001b[0m\u001b[0;34m)\u001b[0m\u001b[0;34m\u001b[0m\u001b[0;34m\u001b[0m\u001b[0m\n\u001b[0;32m---> 13\u001b[0;31m \u001b[0;32massert\u001b[0m \u001b[0mstate_value\u001b[0m\u001b[0;34m[\u001b[0m\u001b[0;36m0\u001b[0m\u001b[0;34m]\u001b[0m \u001b[0;34m==\u001b[0m \u001b[0;36m0\u001b[0m\u001b[0;34m\u001b[0m\u001b[0;34m\u001b[0m\u001b[0m\n\u001b[0m\u001b[1;32m     14\u001b[0m \u001b[0;32massert\u001b[0m \u001b[0mstate_value\u001b[0m\u001b[0;34m[\u001b[0m\u001b[0;36m100\u001b[0m\u001b[0;34m]\u001b[0m \u001b[0;34m==\u001b[0m \u001b[0;36m1\u001b[0m\u001b[0;34m\u001b[0m\u001b[0;34m\u001b[0m\u001b[0m\n\u001b[1;32m     15\u001b[0m \u001b[0;32massert\u001b[0m \u001b[0mall\u001b[0m\u001b[0;34m(\u001b[0m\u001b[0;34m[\u001b[0m\u001b[0;36m0\u001b[0m\u001b[0;34m<=\u001b[0m\u001b[0mv\u001b[0m\u001b[0;34m<=\u001b[0m\u001b[0;36m1\u001b[0m \u001b[0;32mfor\u001b[0m \u001b[0mv\u001b[0m \u001b[0;32min\u001b[0m \u001b[0mstate_value\u001b[0m\u001b[0;34m]\u001b[0m\u001b[0;34m)\u001b[0m\u001b[0;34m,\u001b[0m \u001b[0;34m'The expected value cannot be bigger than 1.'\u001b[0m\u001b[0;34m\u001b[0m\u001b[0;34m\u001b[0m\u001b[0m\n",
      "\u001b[0;31mAssertionError\u001b[0m: "
     ]
    }
   ],
   "source": [
    "assert actions(0) == [0], 'State 100 should be a recurrent state.'\n",
    "assert actions(100) == [0], 'State 100 should be a recurrent state.'\n",
    "\n",
    "# Test `actions()` and \n",
    "for s in STATES:\n",
    "    assert 0 in actions(s), '0 is always and action.'\n",
    "    for a in actions(s):\n",
    "        assert 0 <= a <= GOAL, 'The new state should be one of 0, ..., len(STATES).'\n",
    "            \n",
    "\n",
    "# Test `value_iteration_example()`.\n",
    "state_value, policy = value_iteration_example()\n",
    "assert state_value[0] == 0\n",
    "assert state_value[100] == 1\n",
    "assert all([0<=v<=1 for v in state_value]), 'The expected value cannot be bigger than 1.'"
   ]
  }
 ],
 "metadata": {
  "kernelspec": {
   "display_name": "Python 3",
   "language": "python",
   "name": "python3"
  },
  "language_info": {
   "codemirror_mode": {
    "name": "ipython",
    "version": 3
   },
   "file_extension": ".py",
   "mimetype": "text/x-python",
   "name": "python",
   "nbconvert_exporter": "python",
   "pygments_lexer": "ipython3",
   "version": "3.7.3"
  }
 },
 "nbformat": 4,
 "nbformat_minor": 2
}
